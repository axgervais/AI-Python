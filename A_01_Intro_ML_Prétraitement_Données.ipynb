{
  "cells": [
    {
      "cell_type": "markdown",
      "id": "e59b37c4-2cec-4686-b21f-f21449fcc78b",
      "metadata": {
        "id": "e59b37c4-2cec-4686-b21f-f21449fcc78b"
      },
      "source": [
        "# **Introduction au Machine Learning et Prétraitement des Données**"
      ]
    },
    {
      "cell_type": "markdown",
      "id": "98117008-5d4c-4540-a6bd-366cc9f41e30",
      "metadata": {
        "id": "98117008-5d4c-4540-a6bd-366cc9f41e30"
      },
      "source": [
        "---\n",
        "\n",
        "## **Introduction**\n",
        "\n",
        "Bienvenue dans le premier module de notre cours d'Introduction au Machine Learning et Prétraitement des Données. Dans ce notebook, nous allons aborder les bases du Machine Learning, apprendre comment organiser notre travail de manière efficace, et explorer en profondeur les données pour mieux comprendre leur structure et les préparer pour la modélisation.\n",
        "\n",
        "## **Objectifs**\n",
        "\n",
        "À la fin de cette séance, vous serez capable de :\n",
        "1. Decouvrire les applications du Machine Learning.\n",
        "2. Organiser votre environnement de travail pour une gestion optimale des données et du code.\n",
        "3. Explorer et analyser les données pour en tirer des insights initiaux.\n",
        "4. Appliquer des techniques de prétraitement de données telles que la gestion des valeurs manquantes, l’encodage des variables, la gestion des valeurs aberrantes, la normalisation, et d'autres transformations.\n",
        "\n",
        "---\n"
      ]
    },
    {
      "cell_type": "markdown",
      "id": "5f406fa6-cd56-4800-91b3-ec7aa806fb2e",
      "metadata": {
        "jp-MarkdownHeadingCollapsed": true,
        "tags": [],
        "id": "5f406fa6-cd56-4800-91b3-ec7aa806fb2e"
      },
      "source": [
        "## **1. Introduction au Machine Learning**"
      ]
    },
    {
      "cell_type": "markdown",
      "id": "af49e338-c647-4dd3-a786-2daf9b03c167",
      "metadata": {
        "id": "af49e338-c647-4dd3-a786-2daf9b03c167"
      },
      "source": [
        "### Définition\n",
        "\n",
        "Le **Machine Learning (ML)**, ou apprentissage automatique, est une branche de l'intelligence artificielle qui permet aux machines d'apprendre à partir de données. L’objectif du Machine Learning est de construire des modèles capables de réaliser des tâches spécifiques (comme des prédictions ou des classifications) en analysant des données, sans être explicitement programmés pour chaque tâche.\n",
        "\n",
        "**Exemples d'applications business** :\n",
        "- **Prédiction de churn client** : Prédire si un client risque de quitter une entreprise, pour orienter les actions de fidélisation.\n",
        "- **Scoring de crédit** : Évaluer le risque associé à l’octroi de crédit.\n",
        "- **Recommandation de produits** : Systèmes de recommandation utilisés par les plateformes e-commerce.\n",
        "\n",
        "**Question** :\n",
        "Pouvez-vous penser à d'autres applications du Machine Learning qui seraient utiles dans le contexte de l’entreprise ?\n",
        "---"
      ]
    },
    {
      "cell_type": "markdown",
      "id": "2b0b4922-e429-4ff5-aeff-472c0164dbe2",
      "metadata": {
        "id": "2b0b4922-e429-4ff5-aeff-472c0164dbe2"
      },
      "source": [
        "### Workflow Typique de Création d’un Modèle de Machine Learning\n",
        "\n",
        "Un modèle de Machine Learning suit généralement les étapes suivantes :\n",
        "1. **Définition de l’objectif** : Identifier la tâche (classification, régression, etc.).\n",
        "2. **Exploration des données** : Étudier les données disponibles pour comprendre leur structure et leurs caractéristiques.\n",
        "3. **Prétraitement des données** : Nettoyer et transformer les données pour les rendre exploitables.\n",
        "4. **Entraînement du modèle** : Choisir et entraîner un algorithme de Machine Learning.\n",
        "5. **Évaluation et amélioration** : Mesurer les performances du modèle et apporter des améliorations si nécessaire.\n",
        "\n",
        "---"
      ]
    },
    {
      "cell_type": "markdown",
      "id": "6efa2688-16b5-4ae7-8edb-87dcd3fe69a0",
      "metadata": {
        "tags": [],
        "id": "6efa2688-16b5-4ae7-8edb-87dcd3fe69a0"
      },
      "source": [
        "## **2. Organisation de l’Environnement de Travail**"
      ]
    },
    {
      "cell_type": "markdown",
      "id": "e1d26cf8-22ab-46a2-a244-1d4612525212",
      "metadata": {
        "id": "e1d26cf8-22ab-46a2-a244-1d4612525212"
      },
      "source": [
        "Pour bien gérer vos données, notebooks, et scripts, il est recommandé d’organiser votre répertoire de travail de manière structurée.\n",
        "\n",
        "### Structure du Répertoire\n",
        "\n",
        "Voici une structure recommandée :\n",
        "- **notebooks/** : Contient les notebooks Jupyter pour chaque module.\n",
        "- **data/** : Contient les fichiers de données à utiliser dans le projet. Stockez tous les jeux de données ici pour une meilleure organisation.\n",
        "- **scripts/** : Contient les fichiers `.py` avec des fonctions ou du code réutilisable.\n",
        "\n",
        "Par exemple, si notre dataset `titanic.csv` est stocké dans le dossier `data` au même niveau que `notebooks`, on peut l’appeler en utilisant le chemin relatif `../data/titanic.csv`.\n",
        "\n",
        "---"
      ]
    },
    {
      "cell_type": "markdown",
      "id": "255c9e31-ca58-4bee-b320-903efa7b4e30",
      "metadata": {
        "tags": [],
        "id": "255c9e31-ca58-4bee-b320-903efa7b4e30"
      },
      "source": [
        "## **3. Exploration des Données**"
      ]
    },
    {
      "cell_type": "markdown",
      "id": "a1b701f4-57ea-4518-b954-c138240d3684",
      "metadata": {
        "id": "a1b701f4-57ea-4518-b954-c138240d3684"
      },
      "source": [
        "### Définition\n",
        "\n",
        "L'**exploration des données** (Exploratory Data Analysis - EDA) est le processus d'examen approfondi d'un jeu de données pour comprendre sa structure, identifier des patterns, et détecter des anomalies ou des valeurs aberrantes. L'objectif de l'EDA est de préparer la base pour les étapes de prétraitement et de modélisation.\n",
        "\n",
        "### Objectifs de l’Exploration des Données\n",
        "\n",
        "- **Comprendre la structure des données** : Observer les variables présentes, leur type (numérique, catégoriel) et leur distribution.\n",
        "- **Identifier les valeurs manquantes et aberrantes** : Détecter les données incomplètes et les valeurs extrêmes, qui peuvent fausser l'analyse.\n",
        "- **Déterminer les transformations nécessaires** : Décider des étapes de nettoyage et de transformation des données pour rendre les données exploitables.\n",
        "\n",
        "### Outils et Méthodes Utilisés\n",
        "\n",
        "Pour l'exploration des données, nous allons utiliser les bibliothèques :\n",
        "- **Pandas** pour charger et manipuler les données.\n",
        "- **Matplotlib et Seaborn** pour visualiser les distributions et les relations entre variables.\n",
        "\n",
        "---"
      ]
    },
    {
      "cell_type": "markdown",
      "id": "380c01cf-cad4-477a-8497-fea02c66ff9f",
      "metadata": {
        "id": "380c01cf-cad4-477a-8497-fea02c66ff9f"
      },
      "source": [
        "### **Extraction des Données**\n",
        "\n",
        "Nous allons commencer par charger le dataset `titanic.csv`, qui contient des informations sur les passagers du Titanic.\n",
        "\n",
        "**Instructions** :\n",
        "1. Importez les bibliothèques **Pandas** et **NumPy**.\n",
        "2. Chargez le dataset en utilisant `pd.read_csv()` et affichez les premières lignes avec `.head()` pour voir un aperçu.\n"
      ]
    },
    {
      "cell_type": "code",
      "execution_count": null,
      "id": "985ac426-ea93-4acd-9cf1-4573e162cf4e",
      "metadata": {
        "colab": {
          "base_uri": "https://localhost:8080/"
        },
        "id": "985ac426-ea93-4acd-9cf1-4573e162cf4e",
        "outputId": "a99b48a1-71a0-4d0f-e0e4-c3ae3cb4bf29"
      },
      "outputs": [
        {
          "output_type": "stream",
          "name": "stdout",
          "text": [
            "   PassengerId  Survived  Pclass  \\\n",
            "0            1         0       3   \n",
            "1            2         1       1   \n",
            "2            3         1       3   \n",
            "3            4         1       1   \n",
            "4            5         0       3   \n",
            "\n",
            "                                                Name     Sex   Age  SibSp  \\\n",
            "0                            Braund, Mr. Owen Harris    male  22.0      1   \n",
            "1  Cumings, Mrs. John Bradley (Florence Briggs Th...  female  38.0      1   \n",
            "2                             Heikkinen, Miss. Laina  female  26.0      0   \n",
            "3       Futrelle, Mrs. Jacques Heath (Lily May Peel)  female  35.0      1   \n",
            "4                           Allen, Mr. William Henry    male  35.0      0   \n",
            "\n",
            "   Parch            Ticket     Fare Cabin Embarked  \n",
            "0      0         A/5 21171   7.2500   NaN        S  \n",
            "1      0          PC 17599  71.2833   C85        C  \n",
            "2      0  STON/O2. 3101282   7.9250   NaN        S  \n",
            "3      0            113803  53.1000  C123        S  \n",
            "4      0            373450   8.0500   NaN        S  \n"
          ]
        }
      ],
      "source": [
        "# Insérez votre code ici pour charger le dataset Titanic\n",
        "\n",
        "import pandas as pd\n",
        "import numpy as np\n",
        "\n",
        "titanic_df = pd.read_csv('titanic.csv')\n",
        "\n",
        "print(titanic_df.head())\n"
      ]
    },
    {
      "cell_type": "markdown",
      "id": "a0a2e0cb-72e6-48fa-b665-cd98aae61269",
      "metadata": {
        "id": "a0a2e0cb-72e6-48fa-b665-cd98aae61269"
      },
      "source": [
        "**Question** : En observant les premières lignes du dataset, que représentent les différentes colonnes ? Quels types de données semble-t-il y avoir dans ce dataset (numériques, catégorielles, etc.) ?"
      ]
    },
    {
      "cell_type": "markdown",
      "source": [
        "Les types de données dans ce dataset incluent des données numériques (entiers, flottants) et catégorielles (chaînes de caractères, catégories)."
      ],
      "metadata": {
        "id": "AccbSENtJRVS"
      },
      "id": "AccbSENtJRVS"
    },
    {
      "cell_type": "markdown",
      "id": "b707f88c-3f2d-4f76-9385-096820490b85",
      "metadata": {
        "id": "b707f88c-3f2d-4f76-9385-096820490b85"
      },
      "source": [
        "---\n",
        "\n",
        "### **Analyse Exploratoire des Données**\n",
        "\n",
        "#### 1. **Dimensions et Types de Données** :\n",
        "   - Utilisez `.shape` pour voir les dimensions du dataset et `.info()` pour obtenir des informations sur les types de données."
      ]
    },
    {
      "cell_type": "code",
      "execution_count": null,
      "id": "e9ed8c09-6bf9-4b63-aae3-87f022164053",
      "metadata": {
        "colab": {
          "base_uri": "https://localhost:8080/"
        },
        "id": "e9ed8c09-6bf9-4b63-aae3-87f022164053",
        "outputId": "56ff8021-b351-4201-e588-93170d69bd58"
      },
      "outputs": [
        {
          "output_type": "stream",
          "name": "stdout",
          "text": [
            "Dimensions du dataset : (891, 12)\n",
            "\n",
            "Informations sur le dataset :\n",
            "<class 'pandas.core.frame.DataFrame'>\n",
            "RangeIndex: 891 entries, 0 to 890\n",
            "Data columns (total 12 columns):\n",
            " #   Column       Non-Null Count  Dtype  \n",
            "---  ------       --------------  -----  \n",
            " 0   PassengerId  891 non-null    int64  \n",
            " 1   Survived     891 non-null    int64  \n",
            " 2   Pclass       891 non-null    int64  \n",
            " 3   Name         891 non-null    object \n",
            " 4   Sex          891 non-null    object \n",
            " 5   Age          714 non-null    float64\n",
            " 6   SibSp        891 non-null    int64  \n",
            " 7   Parch        891 non-null    int64  \n",
            " 8   Ticket       891 non-null    object \n",
            " 9   Fare         891 non-null    float64\n",
            " 10  Cabin        204 non-null    object \n",
            " 11  Embarked     889 non-null    object \n",
            "dtypes: float64(2), int64(5), object(5)\n",
            "memory usage: 83.7+ KB\n",
            "None\n"
          ]
        }
      ],
      "source": [
        "# Insérez votre code ici pour afficher les dimensions et les types de données\n",
        "\n",
        "print(\"Dimensions du dataset :\", titanic_df.shape)\n",
        "\n",
        "print(\"\\nInformations sur le dataset :\")\n",
        "print(titanic_df.info())\n"
      ]
    },
    {
      "cell_type": "markdown",
      "id": "4d0d492c-3f99-4bc4-8187-6a11e662b5c6",
      "metadata": {
        "id": "4d0d492c-3f99-4bc4-8187-6a11e662b5c6"
      },
      "source": [
        "**Questions** :\n",
        "   - Combien de colonnes et de lignes contient ce dataset ? Qu’est-ce que cela nous indique sur sa taille ?\n",
        "   - Quels types de données sont présents ? Pourquoi est-il important de connaître les types avant de commencer l’analyse ?"
      ]
    },
    {
      "cell_type": "markdown",
      "source": [
        "Le dataset contient 891 lignes et 12 colonnes.\n",
        "\n",
        "Les types de données sont :\n",
        "\n",
        "Numériques : entiers (e.g., PassengerId, Survived, Pclass, SibSp, Parch) et flottants (e.g., Age, Fare).\n",
        "\n",
        "Catégorielles : chaînes de caractères ou catégories (e.g., Name, Sex, Ticket, Cabin, Embarked).\n",
        "\n",
        "Il est utile de connaitre ces imformations afin de faire les prétraitrements corrects ainsi qu'optimiser les calculs et les choix de modèles etc.."
      ],
      "metadata": {
        "id": "yioaYJLeNc3Q"
      },
      "id": "yioaYJLeNc3Q"
    },
    {
      "cell_type": "markdown",
      "id": "2b9b2b08-a954-469b-8a79-54094c5843cd",
      "metadata": {
        "id": "2b9b2b08-a954-469b-8a79-54094c5843cd"
      },
      "source": [
        "#### 2. **Statistiques Descriptives - Variables Numériques** :\n",
        "   - Utilisez `.describe()` pour obtenir des statistiques sur les variables numériques (moyenne, écart-type, etc.).\n"
      ]
    },
    {
      "cell_type": "code",
      "execution_count": null,
      "id": "e5ad0b4e-8257-4d70-a866-2a92956ac3a5",
      "metadata": {
        "colab": {
          "base_uri": "https://localhost:8080/"
        },
        "id": "e5ad0b4e-8257-4d70-a866-2a92956ac3a5",
        "outputId": "b01ac175-1964-4094-bf69-b2ffe842a102"
      },
      "outputs": [
        {
          "output_type": "stream",
          "name": "stdout",
          "text": [
            "       PassengerId    Survived      Pclass         Age       SibSp  \\\n",
            "count   891.000000  891.000000  891.000000  714.000000  891.000000   \n",
            "mean    446.000000    0.383838    2.308642   29.699118    0.523008   \n",
            "std     257.353842    0.486592    0.836071   14.526497    1.102743   \n",
            "min       1.000000    0.000000    1.000000    0.420000    0.000000   \n",
            "25%     223.500000    0.000000    2.000000   20.125000    0.000000   \n",
            "50%     446.000000    0.000000    3.000000   28.000000    0.000000   \n",
            "75%     668.500000    1.000000    3.000000   38.000000    1.000000   \n",
            "max     891.000000    1.000000    3.000000   80.000000    8.000000   \n",
            "\n",
            "            Parch        Fare  \n",
            "count  891.000000  891.000000  \n",
            "mean     0.381594   32.204208  \n",
            "std      0.806057   49.693429  \n",
            "min      0.000000    0.000000  \n",
            "25%      0.000000    7.910400  \n",
            "50%      0.000000   14.454200  \n",
            "75%      0.000000   31.000000  \n",
            "max      6.000000  512.329200  \n"
          ]
        }
      ],
      "source": [
        "# Insérez votre code ici pour les statistiques descriptives des variables numériques\n",
        "\n",
        "print(titanic_df.describe())\n"
      ]
    },
    {
      "cell_type": "markdown",
      "id": "3a50941e-92ee-48a8-a161-c2cd3ed9adb9",
      "metadata": {
        "id": "3a50941e-92ee-48a8-a161-c2cd3ed9adb9"
      },
      "source": [
        "**Questions** :\n",
        "   - Que représentent les valeurs de sortie pour chaque statistique ?\n",
        "   - Pouvez-vous identifier des valeurs extrêmes ou des anomalies potentielles ?\n"
      ]
    },
    {
      "cell_type": "markdown",
      "source": [
        "Les valeurs de sortie pour chaque statistique des variables numériques sont les suivantes :\n",
        "\n",
        "count : Nombre de valeurs non nulles pour chaque variable.\n",
        "\n",
        "mean : Moyenne des valeurs de la variable.\n",
        "\n",
        "std : Écart-type, indiquant la dispersion autour de la moyenne.\n",
        "\n",
        "min : Valeur minimale observée.\n",
        "\n",
        "25% / 50% (médiane) / 75% : Les quartiles de la distribution des valeurs.\n",
        "\n",
        "max : Valeur maximale observée.\n",
        "\n",
        "Valeurs extrêmes et anomalies potentielles\n",
        "\n",
        "Certaines valeurs extrêmes ou anomalies potentielles incluent :\n",
        "\n",
        "\n",
        "Age : La valeur maximale est de 80, ce qui est rare mais plausible.\n",
        "\n",
        "Fare : La valeur maximale est 512.33, ce qui est inhabituellement élevé par\n",
        "rapport à la médiane (14.45), suggérant des billets très coûteux pour certaines classes ou cabines.\n",
        "\n",
        "SibSp et Parch : Bien que la majorité ait 0 ou 1 relation à bord, les valeurs maximales de 8 et 6 pourraient indiquer de grandes familles, ce qui est inhabituel."
      ],
      "metadata": {
        "id": "8M9z5NPgNzoR"
      },
      "id": "8M9z5NPgNzoR"
    },
    {
      "cell_type": "markdown",
      "id": "8212a3a1-64f2-4425-8d31-739aa8425b9c",
      "metadata": {
        "tags": [],
        "id": "8212a3a1-64f2-4425-8d31-739aa8425b9c"
      },
      "source": [
        "#### 3. **Statistiques Descriptives - Variables Catégorielles** :\n",
        "   - Utilisez `.describe(include=['O'])` pour obtenir des statistiques descriptives sur les variables catégorielles (type `object`)."
      ]
    },
    {
      "cell_type": "code",
      "execution_count": null,
      "id": "35cfea48-e17f-4320-8a76-1871e5a0b2d9",
      "metadata": {
        "colab": {
          "base_uri": "https://localhost:8080/"
        },
        "id": "35cfea48-e17f-4320-8a76-1871e5a0b2d9",
        "outputId": "67f9ee79-25fa-4848-f629-775239a137af"
      },
      "outputs": [
        {
          "output_type": "stream",
          "name": "stdout",
          "text": [
            "                           Name   Sex  Ticket    Cabin Embarked\n",
            "count                       891   891     891      204      889\n",
            "unique                      891     2     681      147        3\n",
            "top     Braund, Mr. Owen Harris  male  347082  B96 B98        S\n",
            "freq                          1   577       7        4      644\n"
          ]
        }
      ],
      "source": [
        "# Insérez votre code ici pour les statistiques descriptives des variables catégorielles\n",
        "\n",
        "print(titanic_df.describe(include=['O']))"
      ]
    },
    {
      "cell_type": "markdown",
      "id": "bed8015d-2e99-4cf0-a37a-979c29abf888",
      "metadata": {
        "id": "bed8015d-2e99-4cf0-a37a-979c29abf888"
      },
      "source": [
        "**Question** : Combien de catégories uniques existe-t-il pour chaque variable catégorielle ? En quoi ces informations pourraient-elles être utiles lors de la modélisation ?"
      ]
    },
    {
      "cell_type": "markdown",
      "source": [
        "D'après les statistiques descriptives :\n",
        "\n",
        "Name : 891 catégories uniques, chaque nom est unique.\n",
        "\n",
        "Sex : 2 catégories uniques (male, female).\n",
        "\n",
        "Ticket : 681 catégories uniques, certains numéros de billets sont partagés.\n",
        "\n",
        "Cabin : 147 catégories uniques, avec beaucoup de valeurs manquantes.\n",
        "\n",
        "Embarked : 3 catégories uniques (S, C, Q).\n"
      ],
      "metadata": {
        "id": "bzKnbR3DOBKr"
      },
      "id": "bzKnbR3DOBKr"
    },
    {
      "cell_type": "markdown",
      "id": "5a53e953-c806-44a0-8635-48f56140f704",
      "metadata": {
        "tags": [],
        "id": "5a53e953-c806-44a0-8635-48f56140f704"
      },
      "source": [
        "#### 4. **Visualisation des Données**\n",
        "\n",
        "1. **Visualisation de la Distribution de l'Âge** :\n",
        "   - Utilisez `sns.histplot()` pour afficher l’histogramme de la distribution de l'âge (`Age`)."
      ]
    },
    {
      "cell_type": "code",
      "execution_count": null,
      "id": "7b76fc9e-6a92-4229-931c-5827f4057136",
      "metadata": {
        "colab": {
          "base_uri": "https://localhost:8080/",
          "height": 472
        },
        "id": "7b76fc9e-6a92-4229-931c-5827f4057136",
        "outputId": "753a4253-93b1-4514-cf5a-d66f8f9d912b"
      },
      "outputs": [
        {
          "output_type": "display_data",
          "data": {
            "text/plain": [
              "<Figure size 640x480 with 1 Axes>"
            ],
            "image/png": "[encoded data removed]"
          },
          "metadata": {}
        }
      ],
      "source": [
        "# Insérez votre code ici pour visualiser la distribution de l'âge\n",
        "\n",
        "import seaborn as sns\n",
        "import matplotlib.pyplot as plt\n",
        "\n",
        "sns.histplot(titanic_df['Age'], kde=True)\n",
        "plt.title('Distribution de l\\'âge')\n",
        "plt.show()"
      ]
    },
    {
      "cell_type": "markdown",
      "id": "99f3c700-a4ae-48a6-b3bc-e7aea450073a",
      "metadata": {
        "id": "99f3c700-a4ae-48a6-b3bc-e7aea450073a"
      },
      "source": [
        "**Questions** :\n",
        "   - Que représente chaque barre de l'histogramme ? Quels âges semblent les plus courants parmi les passagers ?\n",
        "   - En quoi la distribution de l'âge pourrait-elle influencer une analyse business ?"
      ]
    },
    {
      "cell_type": "markdown",
      "source": [
        "Chaque barre de l'histogramme représente le nombre de passagers pour une tranche d'âge donnée.\n",
        "\n",
        "Les âges les plus courants se situent entre 20 et 40 ans, avec un pic autour de 30 ans.\n",
        "\n",
        "La distribution de l'âge peut révéler des segments de clients"
      ],
      "metadata": {
        "id": "TkTaIpc8OKOz"
      },
      "id": "TkTaIpc8OKOz"
    },
    {
      "cell_type": "markdown",
      "id": "5de85d22-4dd0-4a53-9692-4d5c33f05191",
      "metadata": {
        "id": "5de85d22-4dd0-4a53-9692-4d5c33f05191"
      },
      "source": [
        "2. **Visualisation de la Distribution de la variable `Fare`** :\n",
        "   - Utilisez `sns.histplot()` pour afficher l’histogramme de la distribution de la variable `Fare`."
      ]
    },
    {
      "cell_type": "code",
      "execution_count": null,
      "id": "5c4a53cd-868d-47c1-bf1e-66fa24ef8df6",
      "metadata": {
        "colab": {
          "base_uri": "https://localhost:8080/",
          "height": 472
        },
        "id": "5c4a53cd-868d-47c1-bf1e-66fa24ef8df6",
        "outputId": "6ccd6671-1647-4b57-f54c-946ade3f8958"
      },
      "outputs": [
        {
          "output_type": "display_data",
          "data": {
            "text/plain": [
              "<Figure size 640x480 with 1 Axes>"
            ],
            "image/png": "[encoded data removed]"
          },
          "metadata": {}
        }
      ],
      "source": [
        "# Insérez votre code ici pour visualiser la distribution de Fare\n",
        "\n",
        "sns.histplot(titanic_df['Fare'], kde=True)\n",
        "plt.title('Distribution de Fare')\n",
        "plt.show()\n"
      ]
    },
    {
      "cell_type": "markdown",
      "id": "b6f81d81-095f-4a55-9a61-0a7d38185573",
      "metadata": {
        "id": "b6f81d81-095f-4a55-9a61-0a7d38185573"
      },
      "source": [
        "3. **Corrélations entre Variables Numériques** :\n",
        "\n",
        " > **Corrélation** : La corrélation mesure la force et la direction de la relation entre deux variables. Une corrélation proche de 1 ou -1 indique une relation forte, tandis qu'une corrélation proche de 0 indique une relation faible.\n",
        "\n",
        "   - Utilisez `.corr()` pour calculer la corrélation entre les variables numériques, puis visualisez avec `sns.heatmap()`."
      ]
    },
    {
      "cell_type": "code",
      "source": [
        "# Insérez votre code ici pour afficher la heatmap de corrélations\n",
        "\n",
        "numeric_df = titanic_df.select_dtypes(include=['number'])\n",
        "\n",
        "correlation_matrix = numeric_df.corr()\n",
        "sns.heatmap(correlation_matrix, annot=True, cmap='coolwarm')\n",
        "plt.title('Matrice de corrélation')\n",
        "plt.show()"
      ],
      "metadata": {
        "colab": {
          "base_uri": "https://localhost:8080/",
          "height": 551
        },
        "id": "SbhPNasm9vtO",
        "outputId": "1a174283-7c22-45e5-f405-1ee6f03303da"
      },
      "id": "SbhPNasm9vtO",
      "execution_count": null,
      "outputs": [
        {
          "output_type": "display_data",
          "data": {
            "text/plain": [
              "<Figure size 640x480 with 2 Axes>"
            ],
            "image/png": "[encoded data removed]"
          },
          "metadata": {}
        }
      ]
    },
    {
      "cell_type": "markdown",
      "id": "141325ac-8cd8-436b-b9a1-0c66b1e5d081",
      "metadata": {
        "id": "141325ac-8cd8-436b-b9a1-0c66b1e5d081"
      },
      "source": [
        "**Questions** :\n",
        "   - Quelles sont les variables fortement corrélées entre elles ? Comment interpréter ces corrélations ?\n",
        "   - Pourquoi est-il important de connaître les corrélations pour éviter les redondances dans les variables ?"
      ]
    },
    {
      "cell_type": "markdown",
      "source": [
        "Les variables SibSp (nombre de frères/sœurs et conjoints) et Parch (nombre de parents/enfants) montrent une légère corrélation positive avec la variable Survived.\n",
        "\n",
        "Pclass (classe du passager) et Fare (tarif payé) sont inversément corrélés, indiquant que les passagers de première classe ont généralement payé des tarifs plus élevés que ceux de classe inférieure.\n",
        "\n",
        "\n",
        "Cela permet d'éviter les redondances et de simplifier le modèle."
      ],
      "metadata": {
        "id": "QyqS9hDiOmPY"
      },
      "id": "QyqS9hDiOmPY"
    },
    {
      "cell_type": "markdown",
      "id": "e9d35953-2dc6-4465-aa3f-a07660746811",
      "metadata": {
        "id": "e9d35953-2dc6-4465-aa3f-a07660746811"
      },
      "source": [
        "#### 5. **Identification des Valeurs Manquantes**\n",
        "\n",
        "   - Utilisez `.isnull().sum()` pour identifier les colonnes avec des valeurs manquantes."
      ]
    },
    {
      "cell_type": "code",
      "execution_count": null,
      "id": "8ba74559-ce30-4bbe-8c06-c8de63ab5c84",
      "metadata": {
        "colab": {
          "base_uri": "https://localhost:8080/"
        },
        "id": "8ba74559-ce30-4bbe-8c06-c8de63ab5c84",
        "outputId": "08246a19-e8f2-417b-8c16-e1271f0c352c"
      },
      "outputs": [
        {
          "output_type": "stream",
          "name": "stdout",
          "text": [
            "PassengerId      0\n",
            "Survived         0\n",
            "Pclass           0\n",
            "Name             0\n",
            "Sex              0\n",
            "Age            177\n",
            "SibSp            0\n",
            "Parch            0\n",
            "Ticket           0\n",
            "Fare             0\n",
            "Cabin          687\n",
            "Embarked         2\n",
            "dtype: int64\n"
          ]
        }
      ],
      "source": [
        "# Insérez votre code ici pour vérifier les valeurs manquantes\n",
        "\n",
        "print(titanic_df.isnull().sum())"
      ]
    },
    {
      "cell_type": "markdown",
      "id": "6ec4139e-9e85-4ccb-838a-cc1c2087268a",
      "metadata": {
        "id": "6ec4139e-9e85-4ccb-838a-cc1c2087268a"
      },
      "source": [
        "**Questions** :\n",
        "   - Quelles colonnes contiennent des valeurs manquantes ? Quelle pourrait être la cause des valeurs manquantes ?\n",
        "   - Comment le choix de traitement des valeurs manquantes peut-il impacter les résultats d’un modèle ?"
      ]
    },
    {
      "cell_type": "markdown",
      "id": "69760841-7062-4676-9764-e851edca0691",
      "metadata": {
        "id": "69760841-7062-4676-9764-e851edca0691"
      },
      "source": [
        "#### 6. Gestion des Valeurs Aberrantes (Outliers)\n",
        "\n",
        "Les valeurs aberrantes (outliers) sont des valeurs extrêmes qui peuvent influencer les résultats de certains modèles. Une méthode simple pour les identifier est l’utilisation d’un **boxplot**.\n",
        "\n",
        "- **Boxplot pour Identifier les Valeurs Aberrantes** :\n",
        "   - Utilisez `sns.boxplot()` pour visualiser la distribution de l'âge et de `fare` et identifier les valeurs aberrantes.\n",
        "   \n"
      ]
    },
    {
      "cell_type": "code",
      "execution_count": null,
      "id": "b6fa5fee-411c-4c03-ac5e-4cbcf97ef8e0",
      "metadata": {
        "colab": {
          "base_uri": "https://localhost:8080/",
          "height": 472
        },
        "id": "b6fa5fee-411c-4c03-ac5e-4cbcf97ef8e0",
        "outputId": "e4185a2f-d3d6-4c06-b7aa-5c026a1362f9"
      },
      "outputs": [
        {
          "output_type": "display_data",
          "data": {
            "text/plain": [
              "<Figure size 640x480 with 1 Axes>"
            ],
            "image/png": "[encoded data removed]"
          },
          "metadata": {}
        }
      ],
      "source": [
        "sns.boxplot(x=titanic_df['Age'])\n",
        "plt.title('Boxplot de l\\'âge')\n",
        "plt.show()"
      ]
    },
    {
      "cell_type": "code",
      "execution_count": null,
      "id": "9a3b1f66-dbb1-4ae7-a085-efa42fbb4f6a",
      "metadata": {
        "colab": {
          "base_uri": "https://localhost:8080/",
          "height": 472
        },
        "id": "9a3b1f66-dbb1-4ae7-a085-efa42fbb4f6a",
        "outputId": "1209cde8-c05e-4212-ffca-942cf3e14981"
      },
      "outputs": [
        {
          "output_type": "display_data",
          "data": {
            "text/plain": [
              "<Figure size 640x480 with 1 Axes>"
            ],
            "image/png": "[encoded data removed]"
          },
          "metadata": {}
        }
      ],
      "source": [
        "sns.boxplot(x=titanic_df['Fare'])\n",
        "plt.title('Boxplot de Fare')\n",
        "plt.show()"
      ]
    },
    {
      "cell_type": "markdown",
      "id": "dc55bef3-dd25-42d1-885e-1c049d2d98ba",
      "metadata": {
        "id": "dc55bef3-dd25-42d1-885e-1c049d2d98ba"
      },
      "source": [
        "**Questions** :\n",
        "   - Que représentent les points situés en dehors des moustaches du boxplot ?\n",
        "   - Comment pourriez-vous traiter ces valeurs aberrantes (les conserver, les supprimer, les transformer) ?"
      ]
    },
    {
      "cell_type": "markdown",
      "source": [
        "Il s'agit d'outliers ou de valeures abberrantes qui peuvent fausser les résultats.\n",
        "\n",
        "3 actions sont possibles, les conserver, les supprimers ou les transformer."
      ],
      "metadata": {
        "id": "eoztbgdkPJDd"
      },
      "id": "eoztbgdkPJDd"
    },
    {
      "cell_type": "markdown",
      "id": "606380f1-8b53-4930-9f1a-8354f6d59596",
      "metadata": {
        "id": "606380f1-8b53-4930-9f1a-8354f6d59596"
      },
      "source": [
        "### Résumé de l'Analyse Exploratoire (EDA)\n",
        "\n",
        "**Instructions** : Rédigez un résumé de vos observations. Notez les points suivants :\n",
        "   - Les principales caractéristiques du dataset (variables, types de données, etc.).\n",
        "   - Observations notables, comme les distributions de variables ou des corrélations importantes.\n",
        "   - Quels aspects du dataset pourraient nécessiter des étapes de nettoyage et de transformation avant la modélisation.\n",
        "   - ...\n",
        "\n",
        "---"
      ]
    },
    {
      "cell_type": "markdown",
      "id": "a5247d9f-aed8-438b-9fa9-950c7b7fc309",
      "metadata": {
        "tags": [],
        "id": "a5247d9f-aed8-438b-9fa9-950c7b7fc309"
      },
      "source": [
        "## **4. Prétraitement des Données**"
      ]
    },
    {
      "cell_type": "markdown",
      "id": "d07a4b2c-15ca-40e9-9f80-9250dded2d27",
      "metadata": {
        "tags": [],
        "id": "d07a4b2c-15ca-40e9-9f80-9250dded2d27"
      },
      "source": [
        "### Définition\n",
        "\n",
        "Le **prétraitement des données** consiste à préparer les données pour l’entraînement du modèle. Il inclut le nettoyage des données, le traitement des valeurs manquantes, l’encodage des variables catégorielles, la gestion des valeurs aberrantes, et la normalisation.\n",
        "\n",
        "### Objectifs du Prétraitement des Données\n",
        "\n",
        "- **Assurer la qualité des données** : Traiter les valeurs manquantes et aberrantes pour éviter des biais dans les modèles.\n",
        "- **Préparer les données pour les algorithmes** : Rendre les données exploitables pour le modèle choisi, en appliquant des transformations adaptées."
      ]
    },
    {
      "cell_type": "markdown",
      "id": "b8282769-7564-482e-8346-8fffa944caf2",
      "metadata": {
        "id": "b8282769-7564-482e-8346-8fffa944caf2"
      },
      "source": [
        "### Étapes du Prétraitement"
      ]
    },
    {
      "cell_type": "markdown",
      "id": "dad92ecd-0947-4a07-bc59-214a8d8b6e37",
      "metadata": {
        "id": "dad92ecd-0947-4a07-bc59-214a8d8b6e37"
      },
      "source": [
        "---\n",
        "\n",
        "### 1. Gestion des Valeurs Manquantes"
      ]
    },
    {
      "cell_type": "markdown",
      "id": "ae3630a4-74fd-4e74-a8b1-6a6b2f7aa9b1",
      "metadata": {
        "id": "ae3630a4-74fd-4e74-a8b1-6a6b2f7aa9b1"
      },
      "source": [
        "La gestion des valeurs manquantes est essentielle pour garantir la qualité des données avant toute analyse ou modélisation. Les valeurs manquantes peuvent être traitées de différentes manières en fonction du type de variable et de la distribution des données. Voici les stratégies d’imputation couramment utilisées :\n",
        "\n",
        "- **Moyenne** : Pour les variables continues avec une distribution symétrique et sans valeurs extrêmes.\n",
        "- **Médiane** : Pour les variables continues susceptibles de contenir des valeurs extrêmes, car elle est moins sensible aux valeurs aberrantes.\n",
        "- **Mode** : Pour les variables catégorielles, en remplaçant les valeurs manquantes par la catégorie la plus fréquente.\n",
        "- **Suppression** : Pour les colonnes ayant plus de 70 % de valeurs manquantes, car elles contiennent peu d’informations exploitables.\n",
        "- **Méthodes avancées** : Dans certains cas, des modèles de Machine Learning peuvent prédire les valeurs manquantes, mais cela nécessite des ressources supplémentaires et une analyse approfondie.\n",
        "\n",
        "#### **Exemple d’Imputation pour la Colonne `Age`**\n",
        "\n",
        "Pour la colonne `Age`, nous utilisons la **médiane** pour remplacer les valeurs manquantes, car cette variable continue contient des valeurs extrêmes. Utilisez `.fillna()` pour remplacer les valeurs manquantes\n"
      ]
    },
    {
      "cell_type": "code",
      "execution_count": null,
      "id": "0d87ab05-220a-474a-8ad2-ba26f50be1e0",
      "metadata": {
        "colab": {
          "base_uri": "https://localhost:8080/"
        },
        "id": "0d87ab05-220a-474a-8ad2-ba26f50be1e0",
        "outputId": "8330a3df-f41e-46fd-e2bb-91c5f6b7ec9c"
      },
      "outputs": [
        {
          "output_type": "stream",
          "name": "stderr",
          "text": [
            "<ipython-input-23-d7f3b3ef669e>:3: FutureWarning: A value is trying to be set on a copy of a DataFrame or Series through chained assignment using an inplace method.\n",
            "The behavior will change in pandas 3.0. This inplace method will never work because the intermediate object on which we are setting values always behaves as a copy.\n",
            "\n",
            "For example, when doing 'df[col].method(value, inplace=True)', try using 'df.method({col: value}, inplace=True)' or df[col] = df[col].method(value) instead, to perform the operation inplace on the original object.\n",
            "\n",
            "\n",
            "  titanic_df['Age'].fillna(titanic_df['Age'].median(), inplace=True)\n"
          ]
        }
      ],
      "source": [
        "# Insérez votre code ici pour remplir les valeurs manquantes dans la colonne Age\n",
        "\n",
        "titanic_df['Age'].fillna(titanic_df['Age'].median(), inplace=True)"
      ]
    },
    {
      "cell_type": "markdown",
      "id": "c6b42919-e04d-4e11-9de2-82635c4d2bb7",
      "metadata": {
        "id": "c6b42919-e04d-4e11-9de2-82635c4d2bb7"
      },
      "source": [
        "**Question** :\n",
        "- Pourquoi utiliser la médiane peut-il être plus avantageux que la moyenne pour remplacer les valeurs manquantes ?"
      ]
    },
    {
      "cell_type": "markdown",
      "source": [
        "La medianne est une valeur de référence plus stable car elle ne prend pas en compte les abberrations et donne ainsi une valeure plus proche de la réalité."
      ],
      "metadata": {
        "id": "W9XYoizKPd5g"
      },
      "id": "W9XYoizKPd5g"
    },
    {
      "cell_type": "markdown",
      "id": "f2c7bac5-b9cc-4b79-a854-93b56f105480",
      "metadata": {
        "id": "f2c7bac5-b9cc-4b79-a854-93b56f105480"
      },
      "source": [
        "#### **Application des Stratégies pour les Autres Variables**\n",
        "\n",
        "Pour les autres variables, choisissez la stratégie d’imputation appropriée selon la nature de la colonne :\n",
        "\n",
        "- Utilisez la **moyenne** ou la **médiane** pour les variables continues, selon la présence de valeurs extrêmes.\n",
        "- Utilisez le **mode** pour les variables catégorielles.\n",
        "- Supprimez les colonnes avec un grand nombre de valeurs manquantes si elles contiennent plus de 70 % de données manquantes."
      ]
    },
    {
      "cell_type": "markdown",
      "id": "984ec07c-2416-4ce8-bcda-4ad48d09450a",
      "metadata": {
        "id": "984ec07c-2416-4ce8-bcda-4ad48d09450a"
      },
      "source": [
        "**Questions** :\n",
        "- Quels sont les avantages et inconvénients d'utiliser la moyenne, la médiane ou le mode pour gérer les valeurs manquantes ?"
      ]
    },
    {
      "cell_type": "markdown",
      "source": [
        "La medianne est une valeur de référence plus stable car elle ne prend pas en compte les abberrations et donne ainsi une valeure plus proche de la réalité."
      ],
      "metadata": {
        "id": "baNTPg9MPqZA"
      },
      "id": "baNTPg9MPqZA"
    },
    {
      "cell_type": "markdown",
      "id": "aeab3ee8-6d08-46d3-94da-419050056585",
      "metadata": {
        "id": "aeab3ee8-6d08-46d3-94da-419050056585"
      },
      "source": [
        "---\n",
        "### 2. **Calcule et Traitement des Valeurs Aberrantes avec la methode de l'IQR**\n",
        "\n",
        "Une fois que nous avons identifié des valeurs aberrantes lors de l'exploration des données, nous pouvons maintenant les traiter dans la phase de prétraitement. Les valeurs aberrantes sont des observations extrêmes qui se situent en dehors de la majorité des données et peuvent affecter la performance de certains modèles de Machine Learning.\n",
        "\n",
        "#### **Méthode de l'IQR pour le Traitement des Valeurs Aberrantes**\n",
        "\n",
        "Pour repérer les valeurs aberrantes de manière quantitative, nous utilisons l'Intervalle Interquartile (`IQR`). En rappel, l'IQR est défini comme la différence entre le troisième quartile (`Q3`) et le premier quartile (`Q1`) : $IQR = Q3 - Q1$\n",
        "\n",
        "Pour identifier les valeurs aberrantes, on utilise les bornes suivantes :\n",
        "- **Borne inférieure** : $ Q1 - 1.5 \\times IQR $\n",
        "- **Borne supérieure** : $ Q3 + 1.5 \\times IQR $\n",
        "\n",
        "Les valeurs en dehors de cet intervalle sont considérées comme aberrantes.\n",
        "\n",
        "##### **Étapes pour Traiter les Valeurs Aberrantes**\n",
        "\n",
        "1. **Calcul des Quartiles et de l'IQR** :\n",
        "   - Calculez les quartiles  `Q1` et `Q3`  pour les variables `Age` et `Fare`.\n",
        "   - Déterminez l'IQR en soustrayant `Q1` de `Q3`.\n",
        "\n",
        "2. **Détection des Valeurs Aberrantes** :\n",
        "   - Calculez les bornes inférieure et supérieure pour chaque variable.\n",
        "   - Filtrez les valeurs de `Age` et `Fare` qui se trouvent en dehors de ces bornes.\n",
        "\n",
        "3. **Options pour le Traitement** :\n",
        "   - **Suppression** : Supprimer les valeurs aberrantes si elles sont peu nombreuses et qu'elles risquent d'affecter le modèle.\n",
        "   - **Transformation** : Appliquer une transformation (comme la transformation logarithmique) pour réduire l’impact des valeurs extrêmes.\n",
        "   - **Imputation** : Remplacer les valeurs aberrantes par la médiane ou un autre résumé statistique si elles sont essentielles pour l’analyse.\n",
        "\n",
        "**Instructions** :\n",
        "- Calculez les valeurs de `Q1`, `Q3` et `IQR` pour `Age` et `Fare`.\n",
        "- Déterminez les bornes pour filtrer les valeurs aberrantes et décidez comment les traiter en fonction du contexte."
      ]
    },
    {
      "cell_type": "code",
      "execution_count": null,
      "id": "e9d440ff-bc24-48df-bb11-fda2252b8247",
      "metadata": {
        "id": "e9d440ff-bc24-48df-bb11-fda2252b8247"
      },
      "outputs": [],
      "source": [
        "# Insérez votre code ici pour détection des Valeurs Aberrantes de l'age et de face\n",
        "\n",
        "Q1 = titanic_df['Age'].quantile(0.25)\n",
        "Q3 = titanic_df['Age'].quantile(0.75)\n",
        "IQR = Q3 - Q1"
      ]
    },
    {
      "cell_type": "markdown",
      "id": "78c7624d-b45e-496c-a74b-bc57761d24ee",
      "metadata": {
        "id": "78c7624d-b45e-496c-a74b-bc57761d24ee"
      },
      "source": [
        "**Questions** :\n",
        "- Quels sont les avantages de transformer ou de supprimer les valeurs aberrantes dans `Age` et `Fare` ?\n",
        "- Comment ces décisions pourraient-elles influencer les résultats de votre modèle de Machine Learning ?\n",
        "\n",
        "---"
      ]
    },
    {
      "cell_type": "markdown",
      "source": [
        "Cela permet d'améliorer l'efficacité de ntore modèle de  machine learning et produire un résultat beaucoup plus fiable"
      ],
      "metadata": {
        "id": "xsthfVLoPtpf"
      },
      "id": "xsthfVLoPtpf"
    },
    {
      "cell_type": "markdown",
      "id": "6fd47da1-359f-4536-95ae-a25f35412268",
      "metadata": {
        "id": "6fd47da1-359f-4536-95ae-a25f35412268"
      },
      "source": [
        "### 3. **Encodage des Variables Catégorielles**\n",
        "\n",
        "1. **Encodage One-Hot** :\n",
        "   - Utilisez `pd.get_dummies()` pour encoder les variables catégorielles (`Sex`, `Embarked`) en variables numériques."
      ]
    },
    {
      "cell_type": "code",
      "execution_count": null,
      "id": "1ab1cf3f-e5e7-454f-a5bf-fa336935a7e5",
      "metadata": {
        "id": "1ab1cf3f-e5e7-454f-a5bf-fa336935a7e5"
      },
      "outputs": [],
      "source": [
        "# Insérez votre code ici pour encoder les variables catégorielles\n",
        "\n",
        "titanic_df = pd.get_dummies(titanic_df, columns=['Sex', 'Embarked'])"
      ]
    },
    {
      "cell_type": "markdown",
      "id": "30f769e5-3523-4c0a-93ce-0e4e178ffcca",
      "metadata": {
        "id": "30f769e5-3523-4c0a-93ce-0e4e178ffcca"
      },
      "source": [
        "**Question** : Comment l’encodage des variables catégorielles peut-il aider certains algorithmes de Machine Learning à mieux traiter les données ?"
      ]
    },
    {
      "cell_type": "markdown",
      "source": [
        "Interprétabilité des catégories, calcul des distances et pour les modèles linéaires."
      ],
      "metadata": {
        "id": "i5kaB6wUQCaE"
      },
      "id": "i5kaB6wUQCaE"
    },
    {
      "cell_type": "markdown",
      "id": "c638f814-3e13-45db-a0dd-59b0c253e666",
      "metadata": {
        "id": "c638f814-3e13-45db-a0dd-59b0c253e666"
      },
      "source": [
        "---\n",
        "\n",
        "### 4. Normalisation et Standardisation des Variables\n",
        "\n",
        "La **normalisation** et la **standardisation** sont des étapes importantes dans le prétraitement des données pour s’assurer que toutes les variables sont sur une même échelle. Cela évite que certaines variables, qui ont des valeurs plus grandes ou plus petites, influencent davantage le modèle que d'autres, simplement à cause de leur amplitude.\n",
        "\n",
        "- **Normalisation** : La normalisation consiste à rescaler les données pour qu’elles soient comprises entre 0 et 1. Cela est utile lorsque les données contiennent des valeurs de tailles très différentes. Par exemple, si l’une des variables représente des montants financiers en milliers et qu'une autre représente des pourcentages, la normalisation permet de placer ces deux variables sur une échelle de 0 à 1, ce qui facilite les calculs et rend les valeurs comparables.\n",
        "\n",
        "  Formule de la normalisation : $ x_{\\text{norm}} = \\frac{x - x_{\\text{min}}}{x_{\\text{max}} - x_{\\text{min}}}$\n",
        "\n",
        "- **Standardisation** : La standardisation consiste à transformer les données pour qu’elles aient une moyenne de 0 et un écart-type de 1. Cette méthode est utile lorsque les valeurs sont distribuées autour d’une moyenne mais avec des écarts variés. La standardisation centre les données autour de 0, ce qui aide à équilibrer leur influence dans les calculs du modèle.\n",
        "\n",
        "  Formule de la standardisation :\n",
        "  $ z = \\frac{x - \\mu}{\\sigma}$, où $ \\mu $ est la moyenne de la variable et $ \\sigma $ est son écart-type.\n",
        "\n",
        "**Pourquoi normaliser ou standardiser ?**  \n",
        "Ces transformations sont appliquées pour que les variables aient une échelle comparable, ce qui permet d’éviter que certaines variables dominent les calculs simplement en raison de leur amplitude. Cela peut aussi améliorer la performance des modèles de Machine Learning qui sont sensibles aux différences d’échelle entre les variables, comme les modèles de distances.\n",
        "\n",
        "##### **Instructions pour Appliquer la Normalisation et la Standardisation**"
      ]
    },
    {
      "cell_type": "markdown",
      "id": "8b4bffac-72fe-4db6-a6e4-f1579b823f4a",
      "metadata": {
        "id": "8b4bffac-72fe-4db6-a6e4-f1579b823f4a"
      },
      "source": [
        "- **Normalisation** : Utilisez `MinMaxScaler` de `sklearn.preprocessing` pour transformer les variables numériques afin qu’elles soient comprises entre 0 et 1."
      ]
    },
    {
      "cell_type": "code",
      "execution_count": null,
      "id": "52b7fc41-8d09-4149-bcd8-68ff40c50cb0",
      "metadata": {
        "id": "52b7fc41-8d09-4149-bcd8-68ff40c50cb0"
      },
      "outputs": [],
      "source": [
        "# Insérez votre code ici pour normalisation les variables numériques\n",
        "\n",
        "from sklearn.preprocessing import MinMaxScaler\n",
        "\n",
        "scaler = MinMaxScaler()\n",
        "titanic_df[['Age', 'Fare']] = scaler.fit_transform(titanic_df[['Age', 'Fare']])"
      ]
    },
    {
      "cell_type": "markdown",
      "id": "c7bb60a9-6b3a-444a-abb3-c7903df647dd",
      "metadata": {
        "id": "c7bb60a9-6b3a-444a-abb3-c7903df647dd"
      },
      "source": [
        "**Question** : Question : Pourquoi la normalisation pourrait-elle être utile pour certains types d’analyses ?"
      ]
    },
    {
      "cell_type": "markdown",
      "source": [],
      "metadata": {
        "id": "2Q1m_Q4aQObd"
      },
      "id": "2Q1m_Q4aQObd"
    },
    {
      "cell_type": "markdown",
      "id": "caa669cf-c97d-48da-8d52-6d82962d91f4",
      "metadata": {
        "id": "caa669cf-c97d-48da-8d52-6d82962d91f4"
      },
      "source": [
        "- **Standardisation** : Utilisez `StandardScaler` de `sklearn.preprocessing` pour transformer les variables numériques afin qu’elles aient une moyenne de 0 et un écart-type de 1."
      ]
    },
    {
      "cell_type": "code",
      "execution_count": null,
      "id": "4ec2358b-7e56-4cf8-8532-53a04488b071",
      "metadata": {
        "id": "4ec2358b-7e56-4cf8-8532-53a04488b071"
      },
      "outputs": [],
      "source": [
        "# Insérez votre code ici pour standardiser les variables numériques\n",
        "\n",
        "from sklearn.preprocessing import StandardScaler\n",
        "\n",
        "scaler = StandardScaler()\n",
        "titanic_df[['Age', 'Fare']] = scaler.fit_transform(titanic_df[['Age', 'Fare']])"
      ]
    },
    {
      "cell_type": "markdown",
      "id": "fc6a2aaf-90f5-4eb3-8799-494b935b1929",
      "metadata": {
        "id": "fc6a2aaf-90f5-4eb3-8799-494b935b1929"
      },
      "source": [
        "**Question** : Dans quel cas pensez-vous que la standardisation des données pourrait être importante ?"
      ]
    },
    {
      "cell_type": "markdown",
      "source": [],
      "metadata": {
        "id": "q9Xk5n2YQO62"
      },
      "id": "q9Xk5n2YQO62"
    },
    {
      "cell_type": "markdown",
      "id": "13949879-3466-4dd2-85eb-31ff3b9100e8",
      "metadata": {
        "id": "13949879-3466-4dd2-85eb-31ff3b9100e8"
      },
      "source": [
        "---\n",
        "### Feature Engineering\n",
        "\n",
        "Créer de nouvelles variables à partir des données existantes peut améliorer les performances du modèle. Par exemple :\n",
        "   - **Membre de Famille** : Combinez `SibSp` (nombre de frères/sœurs/époux) et `Parch` (nombre de parents/enfants) pour créer une nouvelle variable représentant le nombre total de membres de la famille."
      ]
    },
    {
      "cell_type": "code",
      "execution_count": null,
      "id": "73ffc89a-1022-48ca-b39c-8d9a7ac45a74",
      "metadata": {
        "id": "73ffc89a-1022-48ca-b39c-8d9a7ac45a74"
      },
      "outputs": [],
      "source": [
        "# Insérez votre code ici pour créer la variable Membre de Famille\n",
        "\n",
        "titanic_df['Membre_Famille'] = titanic_df['SibSp'] + titanic_df['Parch'] + 1"
      ]
    },
    {
      "cell_type": "markdown",
      "id": "69b191f7-28b1-48f6-b2a4-3ee5d0b27276",
      "metadata": {
        "id": "69b191f7-28b1-48f6-b2a4-3ee5d0b27276"
      },
      "source": [
        "**Question** : Comment l’ajout de cette nouvelle variable pourrait-il aider un modèle de Machine Learning à mieux prédire la survie ?"
      ]
    },
    {
      "cell_type": "markdown",
      "source": [
        "Cela permet d'améliorer la précision et réduire les erreurs."
      ],
      "metadata": {
        "id": "woP8Zx7IQPuT"
      },
      "id": "woP8Zx7IQPuT"
    },
    {
      "cell_type": "markdown",
      "id": "249991b6-7350-45b1-ab28-286927af722a",
      "metadata": {
        "id": "249991b6-7350-45b1-ab28-286927af722a"
      },
      "source": [
        "### Autres Étapes de Prétraitement\n",
        "\n",
        "D'autres transformations peuvent être nécessaires selon les besoins :\n",
        "   - **Transformation de l'âge en groupes d'âge** : Regroupez la colonne `Age` en catégories comme \"Enfant\", \"Adolescent\", \"Adulte\", \"Senior\".\n",
        "   - **Transformation logarithmique** : Réduisez l'impact des valeurs extrêmes en appliquant une transformation logarithmique. Par exemple, appliquez `np.log1p()` sur la colonne `Fare`."
      ]
    },
    {
      "cell_type": "code",
      "execution_count": null,
      "id": "02448a04-0078-41ad-801d-f37dd7b09b0e",
      "metadata": {
        "id": "02448a04-0078-41ad-801d-f37dd7b09b0e"
      },
      "outputs": [],
      "source": [
        "# Insérez votre code ici pour les transformations supplémentaires et la visualisation avant/après\n",
        "\n",
        "titanic_df['Age_Group'] = pd.cut(titanic_df['Age'], bins=[0, 12, 18, 60, np.inf], labels=['Enfant', 'Adolescent', 'Adulte', 'Senior'])"
      ]
    },
    {
      "cell_type": "markdown",
      "id": "f743c5a7-e89d-4fdd-a619-ef662166e43d",
      "metadata": {
        "id": "f743c5a7-e89d-4fdd-a619-ef662166e43d"
      },
      "source": [
        "**Conversions des Transformations** :\n",
        "   - **Binning (ou catégorisation)** : Transformer des variables continues comme l'âge en groupes d'âge.\n",
        "   - **Log transformation** : Appliquée sur des valeurs numériques étendues pour en réduire la dispersion.\n",
        "\n",
        "**Question** : Comment ces transformations peuvent-elles affecter la distribution des données ? Dans quel cas sont-elles nécessaires ?"
      ]
    },
    {
      "cell_type": "markdown",
      "source": [
        "Cela permet de stabiliser la variance et à améliorer la robustesse des modèles, notamment en réduisant le risque d’influence disproportionnée des valeurs extrêmes."
      ],
      "metadata": {
        "id": "unlKGGORQQNg"
      },
      "id": "unlKGGORQQNg"
    },
    {
      "cell_type": "markdown",
      "id": "cfeb1808-48d4-4b1e-98ca-03609dda5d4b",
      "metadata": {
        "id": "cfeb1808-48d4-4b1e-98ca-03609dda5d4b"
      },
      "source": [
        "---\n",
        "\n",
        "## **Résumé et Conclusion**\n",
        "\n",
        "Dans ce module, vous avez appris :\n",
        "- Découvert les applications du Machine Learning en entreprise.\n",
        "- L'importance de l'exploration des données et les outils pour l'EDA.\n",
        "- Les techniques de prétraitement des données : gestion des valeurs manquantes, encodage, normalisation, valeurs aberrantes, et **feature engineering**.\n",
        "\n",
        "Ces compétences sont cruciales pour préparer des données prêtes pour la modélisation en Machine Learning."
      ]
    }
  ],
  "metadata": {
    "kernelspec": {
      "display_name": "Python 3 (ipykernel)",
      "language": "python",
      "name": "python3"
    },
    "language_info": {
      "codemirror_mode": {
        "name": "ipython",
        "version": 3
      },
      "file_extension": ".py",
      "mimetype": "text/x-python",
      "name": "python",
      "nbconvert_exporter": "python",
      "pygments_lexer": "ipython3",
      "version": "3.12.6"
    },
    "colab": {
      "provenance": [],
      "collapsed_sections": [
        "5f406fa6-cd56-4800-91b3-ec7aa806fb2e",
        "6efa2688-16b5-4ae7-8edb-87dcd3fe69a0",
        "255c9e31-ca58-4bee-b320-903efa7b4e30"
      ]
    }
  },
  "nbformat": 4,
  "nbformat_minor": 5
}