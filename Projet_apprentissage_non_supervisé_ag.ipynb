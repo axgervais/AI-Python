{
  "nbformat": 4,
  "nbformat_minor": 0,
  "metadata": {
    "colab": {
      "provenance": [],
      "include_colab_link": true
    },
    "kernelspec": {
      "name": "python3",
      "display_name": "Python 3"
    },
    "language_info": {
      "name": "python"
    }
  },
  "cells": [
    {
      "cell_type": "markdown",
      "metadata": {
        "id": "view-in-github",
        "colab_type": "text"
      },
      "source": [
        "<a href=\"https://colab.research.google.com/github/axgervais/AI-Python/blob/main/Projet_apprentissage_non_supervis%C3%A9_ag.ipynb\" target=\"_parent\"><img src=\"https://colab.research.google.com/assets/colab-badge.svg\" alt=\"Open In Colab\"/></a>"
      ]
    },
    {
      "cell_type": "markdown",
      "source": [
        "Étape 1 : Exploration des Données"
      ],
      "metadata": {
        "id": "YYbqtiNQmKCh"
      }
    },
    {
      "cell_type": "markdown",
      "source": [
        "Chargement du dataset"
      ],
      "metadata": {
        "id": "XFSw2UP_phCn"
      }
    },
    {
      "cell_type": "code",
      "source": [
        "import pandas as pd\n",
        "\n",
        "# Charger le dataset\n",
        "df = pd.read_excel('/content/Online Retail.xlsx')\n",
        "\n",
        "# Vérifier que le dataset est bien chargé\n",
        "print(\"Dataset chargé avec succès !\")\n",
        "print(\"Nombre de lignes et colonnes :\", df.shape)\n"
      ],
      "metadata": {
        "id": "01iBb-80pgV1",
        "outputId": "dcba1612-6848-4874-8b91-2dd72e4591e4",
        "colab": {
          "base_uri": "https://localhost:8080/"
        }
      },
      "execution_count": 3,
      "outputs": [
        {
          "output_type": "stream",
          "name": "stdout",
          "text": [
            "Dataset chargé avec succès !\n",
            "Nombre de lignes et colonnes : (541909, 8)\n"
          ]
        }
      ]
    },
    {
      "cell_type": "markdown",
      "source": [
        "Étape 1.1 : Aperçu général des données\n",
        "python"
      ],
      "metadata": {
        "id": "sXJvjONypGGX"
      }
    },
    {
      "cell_type": "code",
      "source": [
        "# Aperçu général des données\n",
        "print(df.head())  # Afficher les premières lignes\n",
        "print(df.info())  # Afficher la structure et les types des données\n",
        "print(df.describe(include=\"all\"))  # Afficher les statistiques descriptives\n"
      ],
      "metadata": {
        "id": "mK_mhRf0pFcX",
        "outputId": "dab9db2b-1860-4f3f-9735-254009ecfcc4",
        "colab": {
          "base_uri": "https://localhost:8080/"
        }
      },
      "execution_count": 4,
      "outputs": [
        {
          "output_type": "stream",
          "name": "stdout",
          "text": [
            "  InvoiceNo StockCode                          Description  Quantity  \\\n",
            "0    536365    85123A   WHITE HANGING HEART T-LIGHT HOLDER         6   \n",
            "1    536365     71053                  WHITE METAL LANTERN         6   \n",
            "2    536365    84406B       CREAM CUPID HEARTS COAT HANGER         8   \n",
            "3    536365    84029G  KNITTED UNION FLAG HOT WATER BOTTLE         6   \n",
            "4    536365    84029E       RED WOOLLY HOTTIE WHITE HEART.         6   \n",
            "\n",
            "          InvoiceDate  UnitPrice  CustomerID         Country  \n",
            "0 2010-12-01 08:26:00       2.55     17850.0  United Kingdom  \n",
            "1 2010-12-01 08:26:00       3.39     17850.0  United Kingdom  \n",
            "2 2010-12-01 08:26:00       2.75     17850.0  United Kingdom  \n",
            "3 2010-12-01 08:26:00       3.39     17850.0  United Kingdom  \n",
            "4 2010-12-01 08:26:00       3.39     17850.0  United Kingdom  \n",
            "<class 'pandas.core.frame.DataFrame'>\n",
            "RangeIndex: 541909 entries, 0 to 541908\n",
            "Data columns (total 8 columns):\n",
            " #   Column       Non-Null Count   Dtype         \n",
            "---  ------       --------------   -----         \n",
            " 0   InvoiceNo    541909 non-null  object        \n",
            " 1   StockCode    541909 non-null  object        \n",
            " 2   Description  540455 non-null  object        \n",
            " 3   Quantity     541909 non-null  int64         \n",
            " 4   InvoiceDate  541909 non-null  datetime64[ns]\n",
            " 5   UnitPrice    541909 non-null  float64       \n",
            " 6   CustomerID   406829 non-null  float64       \n",
            " 7   Country      541909 non-null  object        \n",
            "dtypes: datetime64[ns](1), float64(2), int64(1), object(4)\n",
            "memory usage: 33.1+ MB\n",
            "None\n",
            "        InvoiceNo StockCode                         Description  \\\n",
            "count    541909.0    541909                              540455   \n",
            "unique    25900.0      4070                                4223   \n",
            "top      573585.0    85123A  WHITE HANGING HEART T-LIGHT HOLDER   \n",
            "freq       1114.0      2313                                2369   \n",
            "mean          NaN       NaN                                 NaN   \n",
            "min           NaN       NaN                                 NaN   \n",
            "25%           NaN       NaN                                 NaN   \n",
            "50%           NaN       NaN                                 NaN   \n",
            "75%           NaN       NaN                                 NaN   \n",
            "max           NaN       NaN                                 NaN   \n",
            "std           NaN       NaN                                 NaN   \n",
            "\n",
            "             Quantity                    InvoiceDate      UnitPrice  \\\n",
            "count   541909.000000                         541909  541909.000000   \n",
            "unique            NaN                            NaN            NaN   \n",
            "top               NaN                            NaN            NaN   \n",
            "freq              NaN                            NaN            NaN   \n",
            "mean         9.552250  2011-07-04 13:34:57.156386048       4.611114   \n",
            "min     -80995.000000            2010-12-01 08:26:00  -11062.060000   \n",
            "25%          1.000000            2011-03-28 11:34:00       1.250000   \n",
            "50%          3.000000            2011-07-19 17:17:00       2.080000   \n",
            "75%         10.000000            2011-10-19 11:27:00       4.130000   \n",
            "max      80995.000000            2011-12-09 12:50:00   38970.000000   \n",
            "std        218.081158                            NaN      96.759853   \n",
            "\n",
            "           CustomerID         Country  \n",
            "count   406829.000000          541909  \n",
            "unique            NaN              38  \n",
            "top               NaN  United Kingdom  \n",
            "freq              NaN          495478  \n",
            "mean     15287.690570             NaN  \n",
            "min      12346.000000             NaN  \n",
            "25%      13953.000000             NaN  \n",
            "50%      15152.000000             NaN  \n",
            "75%      16791.000000             NaN  \n",
            "max      18287.000000             NaN  \n",
            "std       1713.600303             NaN  \n"
          ]
        }
      ]
    },
    {
      "cell_type": "markdown",
      "source": [
        "Étape 1.2 : Identification des valeurs manquantes\n",
        "python\n"
      ],
      "metadata": {
        "id": "-OEyTET7pRSj"
      }
    },
    {
      "cell_type": "code",
      "source": [
        "# Identification des valeurs manquantes\n",
        "missing_values = df.isnull().sum()  # Nombre de valeurs manquantes\n",
        "missing_percent = (missing_values / len(df)) * 100  # Pourcentage de valeurs manquantes\n",
        "\n",
        "print(\"Valeurs manquantes :\\n\", missing_values)\n",
        "print(\"\\nPourcentage de valeurs manquantes :\\n\", missing_percent)\n"
      ],
      "metadata": {
        "id": "O2LmsT6spShF",
        "outputId": "bb7b6f51-7637-490f-dd3b-0be57237ec5d",
        "colab": {
          "base_uri": "https://localhost:8080/"
        }
      },
      "execution_count": 5,
      "outputs": [
        {
          "output_type": "stream",
          "name": "stdout",
          "text": [
            "Valeurs manquantes :\n",
            " InvoiceNo           0\n",
            "StockCode           0\n",
            "Description      1454\n",
            "Quantity            0\n",
            "InvoiceDate         0\n",
            "UnitPrice           0\n",
            "CustomerID     135080\n",
            "Country             0\n",
            "dtype: int64\n",
            "\n",
            "Pourcentage de valeurs manquantes :\n",
            " InvoiceNo       0.000000\n",
            "StockCode       0.000000\n",
            "Description     0.268311\n",
            "Quantity        0.000000\n",
            "InvoiceDate     0.000000\n",
            "UnitPrice       0.000000\n",
            "CustomerID     24.926694\n",
            "Country         0.000000\n",
            "dtype: float64\n"
          ]
        }
      ]
    },
    {
      "cell_type": "markdown",
      "source": [
        "Étape 1.3 : Identification des anomalies et valeurs extrêmes"
      ],
      "metadata": {
        "id": "YXi2sBuXpUdj"
      }
    },
    {
      "cell_type": "code",
      "source": [
        "# Identifier les valeurs aberrantes\n",
        "quantity_outliers = df[df[\"Quantity\"] < 0]  # Quantités négatives\n",
        "unitprice_outliers = df[df[\"UnitPrice\"] <= 0]  # Prix négatifs ou nuls\n",
        "\n",
        "print(\"Quantités négatives :\\n\", quantity_outliers)\n",
        "print(\"\\nPrix négatifs ou nuls :\\n\", unitprice_outliers)\n"
      ],
      "metadata": {
        "id": "ceWqBfgNpU5m",
        "outputId": "bfd45c8a-d085-480a-b6ce-0a06fc985550",
        "colab": {
          "base_uri": "https://localhost:8080/"
        }
      },
      "execution_count": 6,
      "outputs": [
        {
          "output_type": "stream",
          "name": "stdout",
          "text": [
            "Quantités négatives :\n",
            "        InvoiceNo StockCode                       Description  Quantity  \\\n",
            "141      C536379         D                          Discount        -1   \n",
            "154      C536383    35004C   SET OF 3 COLOURED  FLYING DUCKS        -1   \n",
            "235      C536391     22556    PLASTERS IN TIN CIRCUS PARADE        -12   \n",
            "236      C536391     21984  PACK OF 12 PINK PAISLEY TISSUES        -24   \n",
            "237      C536391     21983  PACK OF 12 BLUE PAISLEY TISSUES        -24   \n",
            "...          ...       ...                               ...       ...   \n",
            "540449   C581490     23144   ZINC T-LIGHT HOLDER STARS SMALL       -11   \n",
            "541541   C581499         M                            Manual        -1   \n",
            "541715   C581568     21258        VICTORIAN SEWING BOX LARGE        -5   \n",
            "541716   C581569     84978  HANGING HEART JAR T-LIGHT HOLDER        -1   \n",
            "541717   C581569     20979     36 PENCILS TUBE RED RETROSPOT        -5   \n",
            "\n",
            "               InvoiceDate  UnitPrice  CustomerID         Country  \n",
            "141    2010-12-01 09:41:00      27.50     14527.0  United Kingdom  \n",
            "154    2010-12-01 09:49:00       4.65     15311.0  United Kingdom  \n",
            "235    2010-12-01 10:24:00       1.65     17548.0  United Kingdom  \n",
            "236    2010-12-01 10:24:00       0.29     17548.0  United Kingdom  \n",
            "237    2010-12-01 10:24:00       0.29     17548.0  United Kingdom  \n",
            "...                    ...        ...         ...             ...  \n",
            "540449 2011-12-09 09:57:00       0.83     14397.0  United Kingdom  \n",
            "541541 2011-12-09 10:28:00     224.69     15498.0  United Kingdom  \n",
            "541715 2011-12-09 11:57:00      10.95     15311.0  United Kingdom  \n",
            "541716 2011-12-09 11:58:00       1.25     17315.0  United Kingdom  \n",
            "541717 2011-12-09 11:58:00       1.25     17315.0  United Kingdom  \n",
            "\n",
            "[10624 rows x 8 columns]\n",
            "\n",
            "Prix négatifs ou nuls :\n",
            "        InvoiceNo StockCode                   Description  Quantity  \\\n",
            "622       536414     22139                           NaN        56   \n",
            "1970      536545     21134                           NaN         1   \n",
            "1971      536546     22145                           NaN         1   \n",
            "1972      536547     37509                           NaN         1   \n",
            "1987      536549    85226A                           NaN         1   \n",
            "...          ...       ...                           ...       ...   \n",
            "536981    581234     72817                           NaN        27   \n",
            "538504    581406    46000M  POLYESTER FILLER PAD 45x45cm       240   \n",
            "538505    581406    46000S  POLYESTER FILLER PAD 40x40cm       300   \n",
            "538554    581408     85175                           NaN        20   \n",
            "538919    581422     23169                       smashed      -235   \n",
            "\n",
            "               InvoiceDate  UnitPrice  CustomerID         Country  \n",
            "622    2010-12-01 11:52:00        0.0         NaN  United Kingdom  \n",
            "1970   2010-12-01 14:32:00        0.0         NaN  United Kingdom  \n",
            "1971   2010-12-01 14:33:00        0.0         NaN  United Kingdom  \n",
            "1972   2010-12-01 14:33:00        0.0         NaN  United Kingdom  \n",
            "1987   2010-12-01 14:34:00        0.0         NaN  United Kingdom  \n",
            "...                    ...        ...         ...             ...  \n",
            "536981 2011-12-08 10:33:00        0.0         NaN  United Kingdom  \n",
            "538504 2011-12-08 13:58:00        0.0         NaN  United Kingdom  \n",
            "538505 2011-12-08 13:58:00        0.0         NaN  United Kingdom  \n",
            "538554 2011-12-08 14:06:00        0.0         NaN  United Kingdom  \n",
            "538919 2011-12-08 15:24:00        0.0         NaN  United Kingdom  \n",
            "\n",
            "[2517 rows x 8 columns]\n"
          ]
        }
      ]
    },
    {
      "cell_type": "markdown",
      "source": [
        "Etape 2 : Prétraitement des données\n"
      ],
      "metadata": {
        "id": "lPuJcW4sqKIh"
      }
    },
    {
      "cell_type": "markdown",
      "source": [
        "Étape 2.1 : Nettoyage des données\n"
      ],
      "metadata": {
        "id": "SVQYN2ldqagL"
      }
    },
    {
      "cell_type": "code",
      "source": [
        "# Supprimer les lignes où des informations importantes sont manquantes\n",
        "df_cleaned = df.dropna(subset=[\"CustomerID\", \"Description\"])\n",
        "\n",
        "# Supprimer les transactions avec des quantités négatives\n",
        "df_cleaned = df_cleaned[df_cleaned[\"Quantity\"] > 0]\n",
        "\n",
        "# Supprimer les transactions avec des prix unitaires nuls ou négatifs\n",
        "df_cleaned = df_cleaned[df_cleaned[\"UnitPrice\"] > 0]\n",
        "\n",
        "print(\"Données nettoyées !\")\n",
        "print(\"Nombre de lignes après nettoyage :\", df_cleaned.shape)\n",
        "\n",
        "# Étape 2.2 : Création d'une variable de montant total\n",
        "df_cleaned[\"TotalAmount\"] = df_cleaned[\"Quantity\"] * df_cleaned[\"UnitPrice\"]\n",
        "\n",
        "# Vérifier le dataset après ajout de la nouvelle colonne\n",
        "print(\"Montant total par transaction ajouté !\")\n",
        "print(df_cleaned.head())\n"
      ],
      "metadata": {
        "id": "RdWcQFXVqJ3u",
        "outputId": "9cc00575-42cd-45c1-dd8c-f97e22d7102f",
        "colab": {
          "base_uri": "https://localhost:8080/"
        }
      },
      "execution_count": 7,
      "outputs": [
        {
          "output_type": "stream",
          "name": "stdout",
          "text": [
            "Données nettoyées !\n",
            "Nombre de lignes après nettoyage : (397884, 8)\n",
            "Montant total par transaction ajouté !\n",
            "  InvoiceNo StockCode                          Description  Quantity  \\\n",
            "0    536365    85123A   WHITE HANGING HEART T-LIGHT HOLDER         6   \n",
            "1    536365     71053                  WHITE METAL LANTERN         6   \n",
            "2    536365    84406B       CREAM CUPID HEARTS COAT HANGER         8   \n",
            "3    536365    84029G  KNITTED UNION FLAG HOT WATER BOTTLE         6   \n",
            "4    536365    84029E       RED WOOLLY HOTTIE WHITE HEART.         6   \n",
            "\n",
            "          InvoiceDate  UnitPrice  CustomerID         Country  TotalAmount  \n",
            "0 2010-12-01 08:26:00       2.55     17850.0  United Kingdom        15.30  \n",
            "1 2010-12-01 08:26:00       3.39     17850.0  United Kingdom        20.34  \n",
            "2 2010-12-01 08:26:00       2.75     17850.0  United Kingdom        22.00  \n",
            "3 2010-12-01 08:26:00       3.39     17850.0  United Kingdom        20.34  \n",
            "4 2010-12-01 08:26:00       3.39     17850.0  United Kingdom        20.34  \n"
          ]
        }
      ]
    },
    {
      "cell_type": "markdown",
      "source": [
        "Étape 2.2 : Création d'une variable de montant total\n"
      ],
      "metadata": {
        "id": "Dnf9FbNkqTCF"
      }
    },
    {
      "cell_type": "code",
      "source": [
        "df_cleaned[\"TotalAmount\"] = df_cleaned[\"Quantity\"] * df_cleaned[\"UnitPrice\"]\n",
        "\n",
        "# Vérifier le dataset après ajout de la nouvelle colonne\n",
        "print(\"Montant total par transaction ajouté !\")\n",
        "print(df_cleaned.head())"
      ],
      "metadata": {
        "id": "2crt3KwzqRsW",
        "outputId": "bd75b77f-30b9-4aca-f93b-7703f1bbbc20",
        "colab": {
          "base_uri": "https://localhost:8080/"
        }
      },
      "execution_count": 8,
      "outputs": [
        {
          "output_type": "stream",
          "name": "stdout",
          "text": [
            "Montant total par transaction ajouté !\n",
            "  InvoiceNo StockCode                          Description  Quantity  \\\n",
            "0    536365    85123A   WHITE HANGING HEART T-LIGHT HOLDER         6   \n",
            "1    536365     71053                  WHITE METAL LANTERN         6   \n",
            "2    536365    84406B       CREAM CUPID HEARTS COAT HANGER         8   \n",
            "3    536365    84029G  KNITTED UNION FLAG HOT WATER BOTTLE         6   \n",
            "4    536365    84029E       RED WOOLLY HOTTIE WHITE HEART.         6   \n",
            "\n",
            "          InvoiceDate  UnitPrice  CustomerID         Country  TotalAmount  \n",
            "0 2010-12-01 08:26:00       2.55     17850.0  United Kingdom        15.30  \n",
            "1 2010-12-01 08:26:00       3.39     17850.0  United Kingdom        20.34  \n",
            "2 2010-12-01 08:26:00       2.75     17850.0  United Kingdom        22.00  \n",
            "3 2010-12-01 08:26:00       3.39     17850.0  United Kingdom        20.34  \n",
            "4 2010-12-01 08:26:00       3.39     17850.0  United Kingdom        20.34  \n"
          ]
        }
      ]
    },
    {
      "cell_type": "markdown",
      "source": [
        "Étape 3 : Création des Variables pour la Segmentation (Feature Engineering)\n"
      ],
      "metadata": {
        "id": "P2bpFMqtqucX"
      }
    },
    {
      "cell_type": "code",
      "source": [
        "import datetime as dt\n",
        "\n",
        "# Définir une date de référence (par exemple, un jour après la dernière date du dataset)\n",
        "reference_date = df_cleaned[\"InvoiceDate\"].max() + dt.timedelta(days=1)\n",
        "\n",
        "customer_data = df_cleaned.groupby(\"CustomerID\").agg(\n",
        "    TotalSpent=(\"TotalAmount\", \"sum\"),                # Montant total dépensé\n",
        "    Frequency=(\"InvoiceNo\", \"nunique\"),              # Nombre total de factures\n",
        "    LastPurchase=(\"InvoiceDate\", \"max\")              # Date de la dernière transaction\n",
        ").reset_index()\n",
        "\n",
        "# Calculer la récence (nombre de jours depuis la dernière transaction)\n",
        "customer_data[\"Recency\"] = (reference_date - customer_data[\"LastPurchase\"]).dt.days\n",
        "\n",
        "# Supprimer la colonne LastPurchase (non nécessaire pour la segmentation)\n",
        "customer_data.drop(columns=[\"LastPurchase\"], inplace=True)\n",
        "\n",
        "print(\"Variables agrégées créées avec succès !\")\n",
        "print(customer_data.head())\n"
      ],
      "metadata": {
        "id": "Q7WStJ90qg80",
        "outputId": "3651329b-8e15-455d-f099-6bfecaa059fe",
        "colab": {
          "base_uri": "https://localhost:8080/"
        }
      },
      "execution_count": 9,
      "outputs": [
        {
          "output_type": "stream",
          "name": "stdout",
          "text": [
            "Variables agrégées créées avec succès !\n",
            "   CustomerID  TotalSpent  Frequency  Recency\n",
            "0     12346.0    77183.60          1      326\n",
            "1     12347.0     4310.00          7        2\n",
            "2     12348.0     1797.24          4       75\n",
            "3     12349.0     1757.55          1       19\n",
            "4     12350.0      334.40          1      310\n"
          ]
        }
      ]
    },
    {
      "cell_type": "markdown",
      "source": [
        "Étape 4 : Application des Techniques d'Apprentissage Non Supervisé\n"
      ],
      "metadata": {
        "id": "M5ugB-8qrCv6"
      }
    },
    {
      "cell_type": "markdown",
      "source": [
        "Étape 4.1 : Standardisation des données\n",
        "Avant de réaliser le clustering, les données doivent être standardisées pour que chaque variable ait une contribution égale."
      ],
      "metadata": {
        "id": "pP-_L0fmrGPm"
      }
    },
    {
      "cell_type": "code",
      "source": [
        "from sklearn.preprocessing import StandardScaler\n",
        "\n",
        "# Standardisation des données\n",
        "features = [\"TotalSpent\", \"Frequency\", \"Recency\"]\n",
        "scaler = StandardScaler()\n",
        "X_scaled = scaler.fit_transform(customer_data[features])\n",
        "\n",
        "print(\"Données standardisées avec succès !\")\n"
      ],
      "metadata": {
        "id": "bWARg0rqrQ6g",
        "outputId": "2c2d46a8-b76a-4399-a78f-9e59723b0d56",
        "colab": {
          "base_uri": "https://localhost:8080/"
        }
      },
      "execution_count": 10,
      "outputs": [
        {
          "output_type": "stream",
          "name": "stdout",
          "text": [
            "Données standardisées avec succès !\n"
          ]
        }
      ]
    },
    {
      "cell_type": "markdown",
      "source": [
        "Étape 4.2 : Clustering K-means\n",
        "Utiliser la méthode du coude (Elbow Method) pour déterminer le nombre optimal de clusters.\n",
        "Appliquer K-means et analyser les clusters."
      ],
      "metadata": {
        "id": "bK9f2Z_1rGlO"
      }
    },
    {
      "cell_type": "code",
      "source": [
        "from sklearn.cluster import KMeans\n",
        "import matplotlib.pyplot as plt\n",
        "\n",
        "# Trouver le nombre optimal de clusters (méthode du coude)\n",
        "inertia = []\n",
        "for k in range(1, 11):\n",
        "    kmeans = KMeans(n_clusters=k, random_state=42)\n",
        "    kmeans.fit(X_scaled)\n",
        "    inertia.append(kmeans.inertia_)\n",
        "\n",
        "# Visualiser la méthode du coude\n",
        "plt.plot(range(1, 11), inertia, marker='o')\n",
        "plt.xlabel('Nombre de Clusters')\n",
        "plt.ylabel('Inertie')\n",
        "plt.title('Méthode du Coude')\n",
        "plt.show()\n",
        "\n",
        "# Appliquer K-means avec le nombre optimal de clusters\n",
        "optimal_clusters = 4  # Remplacez par le nombre trouvé avec la méthode du coude\n",
        "kmeans = KMeans(n_clusters=optimal_clusters, random_state=42)\n",
        "customer_data[\"Cluster\"] = kmeans.fit_predict(X_scaled)\n",
        "\n",
        "print(\"Clustering K-means appliqué avec succès !\")\n",
        "print(customer_data.head())\n"
      ],
      "metadata": {
        "id": "isOguiuhrSWZ",
        "outputId": "c9fc9da8-c25d-44c9-ba46-732b4cabd94f",
        "colab": {
          "base_uri": "https://localhost:8080/",
          "height": 594
        }
      },
      "execution_count": 11,
      "outputs": [
        {
          "output_type": "display_data",
          "data": {
            "text/plain": [
              "<Figure size 640x480 with 1 Axes>"
            ],
            "image/png": "[encoded data removed]"
          },
          "metadata": {}
        },
        {
          "output_type": "stream",
          "name": "stdout",
          "text": [
            "Clustering K-means appliqué avec succès !\n",
            "   CustomerID  TotalSpent  Frequency  Recency  Cluster\n",
            "0     12346.0    77183.60          1      326        3\n",
            "1     12347.0     4310.00          7        2        0\n",
            "2     12348.0     1797.24          4       75        0\n",
            "3     12349.0     1757.55          1       19        0\n",
            "4     12350.0      334.40          1      310        1\n"
          ]
        }
      ]
    },
    {
      "cell_type": "markdown",
      "source": [
        "Étape 4.3 : Clustering Hiérarchique\n",
        "Appliquer un clustering hiérarchique et générer un dendrogramme pour visualiser les clusters."
      ],
      "metadata": {
        "id": "IPabuHnyrGyv"
      }
    },
    {
      "cell_type": "code",
      "source": [
        "from scipy.cluster.hierarchy import dendrogram, linkage\n",
        "\n",
        "# Clustering hiérarchique\n",
        "linked = linkage(X_scaled, method='ward')\n",
        "\n",
        "# Tracer le dendrogramme\n",
        "plt.figure(figsize=(10, 7))\n",
        "dendrogram(linked)\n",
        "plt.title('Dendrogramme')\n",
        "plt.xlabel('Clients')\n",
        "plt.ylabel('Distance')\n",
        "plt.show()\n"
      ],
      "metadata": {
        "id": "E4U5D4EerUDu",
        "outputId": "183ae290-a8c7-44ae-d858-b7459d5c4237",
        "colab": {
          "base_uri": "https://localhost:8080/",
          "height": 645
        }
      },
      "execution_count": 12,
      "outputs": [
        {
          "output_type": "display_data",
          "data": {
            "text/plain": [
              "<Figure size 1000x700 with 1 Axes>"
            ],
            "image/png": "[encoded data removed]"
          },
          "metadata": {}
        }
      ]
    },
    {
      "cell_type": "markdown",
      "source": [
        "Étape 4.4 : Réduction de dimension (PCA)\n",
        "Réduire les dimensions à 2 ou 3 pour visualiser les clusters."
      ],
      "metadata": {
        "id": "CVuDDMwErNnB"
      }
    },
    {
      "cell_type": "code",
      "source": [
        "from sklearn.decomposition import PCA\n",
        "\n",
        "# Réduction de dimension à 2 dimensions pour visualisation\n",
        "pca = PCA(n_components=2)\n",
        "X_pca = pca.fit_transform(X_scaled)\n",
        "\n",
        "# Visualiser les clusters dans l'espace réduit\n",
        "plt.scatter(X_pca[:, 0], X_pca[:, 1], c=customer_data[\"Cluster\"], cmap='viridis')\n",
        "plt.xlabel('Composante principale 1')\n",
        "plt.ylabel('Composante principale 2')\n",
        "plt.title('Clusters après PCA')\n",
        "plt.colorbar(label='Cluster')\n",
        "plt.show()\n"
      ],
      "metadata": {
        "id": "ZVyBQjI3q2pI",
        "outputId": "faeb3be2-8064-4fd8-8433-6c033f852bde",
        "colab": {
          "base_uri": "https://localhost:8080/",
          "height": 472
        }
      },
      "execution_count": 13,
      "outputs": [
        {
          "output_type": "display_data",
          "data": {
            "text/plain": [
              "<Figure size 640x480 with 2 Axes>"
            ],
            "image/png": "[encoded data removed]"
          },
          "metadata": {}
        }
      ]
    },
    {
      "cell_type": "markdown",
      "source": [
        "Étape 5 : Analyse et Interprétation des Segments\n"
      ],
      "metadata": {
        "id": "LpnsHAdBrcZ1"
      }
    },
    {
      "cell_type": "markdown",
      "source": [
        "Étape 5.1 : Analyse des segments\n",
        "Calculer les moyennes et les statistiques clés pour chaque cluster.\n",
        "Comprendre les différences entre les groupes en termes de TotalSpent, Frequency, et Recency.\n"
      ],
      "metadata": {
        "id": "4PZzpTOzre_B"
      }
    },
    {
      "cell_type": "code",
      "source": [
        "# Analyse des clusters\n",
        "cluster_analysis = customer_data.groupby(\"Cluster\").agg(\n",
        "    AverageSpent=(\"TotalSpent\", \"mean\"),\n",
        "    AverageFrequency=(\"Frequency\", \"mean\"),\n",
        "    AverageRecency=(\"Recency\", \"mean\"),\n",
        "    ClusterSize=(\"CustomerID\", \"count\")  # Nombre de clients dans chaque cluster\n",
        ").reset_index()\n",
        "\n",
        "print(\"Analyse des segments :\")\n",
        "print(cluster_analysis)\n"
      ],
      "metadata": {
        "id": "ApwRopU_rjtE",
        "outputId": "4fd2f4cf-be7f-4326-a433-0469a8b57780",
        "colab": {
          "base_uri": "https://localhost:8080/"
        }
      },
      "execution_count": 14,
      "outputs": [
        {
          "output_type": "stream",
          "name": "stdout",
          "text": [
            "Analyse des segments :\n",
            "   Cluster   AverageSpent  AverageFrequency  AverageRecency  ClusterSize\n",
            "0        0    1359.049284          3.682711       43.702685         3054\n",
            "1        1     480.617480          1.552015      248.075914         1067\n",
            "2        2  127338.313846         82.538462        7.384615           13\n",
            "3        3   12709.090490         22.333333       15.500000          204\n"
          ]
        }
      ]
    },
    {
      "cell_type": "markdown",
      "source": [
        "Étape 5.2 : Profilage des segments\n",
        "Identifier les caractéristiques de chaque groupe (exemple : clients récents et dépensiers, clients inactifs, etc.).\n",
        "Formuler des hypothèses et des recommandations spécifiques pour chaque segment."
      ],
      "metadata": {
        "id": "rvKb7ch0rfn4"
      }
    },
    {
      "cell_type": "code",
      "source": [
        "# Profil des segments\n",
        "for cluster in cluster_analysis[\"Cluster\"]:\n",
        "    print(f\"\\nProfil du Cluster {cluster}:\")\n",
        "    cluster_data = customer_data[customer_data[\"Cluster\"] == cluster]\n",
        "    print(f\"Nombre de clients : {len(cluster_data)}\")\n",
        "    print(f\"Dépense moyenne : {cluster_analysis.loc[cluster, 'AverageSpent']:.2f}\")\n",
        "    print(f\"Fréquence moyenne : {cluster_analysis.loc[cluster, 'AverageFrequency']:.2f}\")\n",
        "    print(f\"Récence moyenne (jours) : {cluster_analysis.loc[cluster, 'AverageRecency']:.2f}\")\n"
      ],
      "metadata": {
        "id": "yAgXNHKprc-B",
        "outputId": "e593321d-049b-476c-8b50-f01c9b61d997",
        "colab": {
          "base_uri": "https://localhost:8080/"
        }
      },
      "execution_count": 15,
      "outputs": [
        {
          "output_type": "stream",
          "name": "stdout",
          "text": [
            "\n",
            "Profil du Cluster 0:\n",
            "Nombre de clients : 3054\n",
            "Dépense moyenne : 1359.05\n",
            "Fréquence moyenne : 3.68\n",
            "Récence moyenne (jours) : 43.70\n",
            "\n",
            "Profil du Cluster 1:\n",
            "Nombre de clients : 1067\n",
            "Dépense moyenne : 480.62\n",
            "Fréquence moyenne : 1.55\n",
            "Récence moyenne (jours) : 248.08\n",
            "\n",
            "Profil du Cluster 2:\n",
            "Nombre de clients : 13\n",
            "Dépense moyenne : 127338.31\n",
            "Fréquence moyenne : 82.54\n",
            "Récence moyenne (jours) : 7.38\n",
            "\n",
            "Profil du Cluster 3:\n",
            "Nombre de clients : 204\n",
            "Dépense moyenne : 12709.09\n",
            "Fréquence moyenne : 22.33\n",
            "Récence moyenne (jours) : 15.50\n"
          ]
        }
      ]
    },
    {
      "cell_type": "markdown",
      "source": [
        "Cluster 0 : Clients modérés\n",
        "\n",
        "Nombre de clients : 3054 (groupe le plus important).\n",
        "\n",
        "Dépense moyenne : 1359.05.\n",
        "\n",
        "Fréquence moyenne : 3.68 (faible fréquence d’achat).\n",
        "\n",
        "Récence moyenne : 43.70 jours (relativement récents).\n",
        "\n",
        "Interprétation : Ces clients achètent occasionnellement avec des\n",
        "dépenses modérées. Ils représentent une base importante mais peu engagée.\n",
        "\n",
        "Recommandations :\n",
        "\n",
        "Encourager ces clients à acheter plus fréquemment avec des promotions ou des offres groupées.\n",
        "Lancer des campagnes personnalisées basées sur leurs précédents achats."
      ],
      "metadata": {
        "id": "R5GhGlK7rk_f"
      }
    },
    {
      "cell_type": "markdown",
      "source": [
        "Cluster 1 : Clients inactifs\n",
        "\n",
        "Nombre de clients : 1067.\n",
        "\n",
        "Dépense moyenne : 480.62 (la plus basse parmi les clusters).\n",
        "\n",
        "Fréquence moyenne : 1.55.\n",
        "\n",
        "Récence moyenne : 248.08 jours (inactifs depuis longtemps).\n",
        "\n",
        "Interprétation : Ces clients sont peu actifs avec de faibles dépenses. Ils représentent un segment difficile à engager.\n",
        "\n",
        "Recommandations :\n",
        "\n",
        "Lancer une campagne de réactivation avec des offres fortes (ex : remises importantes ou cadeaux).\n",
        "Identifier pourquoi ces clients ont cessé d'acheter (problème de satisfaction, concurrence)."
      ],
      "metadata": {
        "id": "kA6yEd1FsQ7T"
      }
    },
    {
      "cell_type": "markdown",
      "source": [
        "Cluster 2 : Clients VIP récents\n",
        "\n",
        "Nombre de clients : 13 (le plus petit groupe).\n",
        "\n",
        "Dépense moyenne : 127,338.31 (extrêmement élevé).\n",
        "\n",
        "Fréquence moyenne : 82.54 (très fréquents).\n",
        "\n",
        "Récence moyenne : 7.38 jours (très récents).\n",
        "\n",
        "Interprétation : Ce sont vos meilleurs clients, avec des dépenses et une fréquence élevées. Ils sont très engagés.\n",
        "\n",
        "Recommandations :\n",
        "\n",
        "Instaurer un programme VIP ou de fidélité exclusif (offres spéciales, événements dédiés).\n",
        "Maintenir leur engagement avec des expériences personnalisées (nouveaux produits, invitations spéciales)."
      ],
      "metadata": {
        "id": "HEQS94HPsWSL"
      }
    },
    {
      "cell_type": "markdown",
      "source": [
        "Cluster 3 : Clients dépensiers réguliers\n",
        "\n",
        "Nombre de clients : 204.\n",
        "\n",
        "Dépense moyenne : 12,709.09.\n",
        "\n",
        "Fréquence moyenne : 22.33.\n",
        "\n",
        "Récence moyenne : 15.50 jours.\n",
        "\n",
        "Interprétation : Ces clients dépensent beaucoup et achètent régulièrement. Ce sont des clients fidèles.\n",
        "\n",
        "Recommandations :\n",
        "\n",
        "Fidéliser davantage avec des programmes de récompenses (points de fidélité, offres exclusives).\n",
        "Leur proposer des produits premium ou des bundles pour augmenter la valeur des transactions."
      ],
      "metadata": {
        "id": "vF7ecwmZsaVz"
      }
    }
  ]
}